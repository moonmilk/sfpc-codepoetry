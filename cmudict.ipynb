{
 "cells": [
  {
   "cell_type": "markdown",
   "metadata": {},
   "source": [
    "# using cmudict\n",
    "http://www.speech.cs.cmu.edu/cgi-bin/cmudict\n",
    "\n",
    "    ABDELLA     AE2 B D EH1 L AH0\n",
    "    ABDICATE    AE1 B D AH0 K EY2 T\n",
    "    ABDICATED   AE1 B D AH0 K EY2 T AH0 D"
   ]
  },
  {
   "cell_type": "code",
   "execution_count": 11,
   "metadata": {
    "collapsed": false
   },
   "outputs": [],
   "source": [
    "cmudict = {}\n",
    "\n",
    "with open('cmudict-0.7b.txt') as cmufile:\n",
    "    for line in cmufile.readlines():\n",
    "        line = line.strip()\n",
    "\n",
    "        # skip comments\n",
    "        if line[0]==';':\n",
    "            pass\n",
    "        \n",
    "        else:\n",
    "            splitline = line.split()\n",
    "            cmudict[splitline[0]] = splitline[1:]\n",
    "    \n",
    "    "
   ]
  },
  {
   "cell_type": "code",
   "execution_count": 18,
   "metadata": {
    "collapsed": false,
    "scrolled": false
   },
   "outputs": [
    {
     "data": {
      "text/plain": [
       "(['AE1', 'B', 'D', 'AH0', 'K', 'EY2', 'T'],\n",
       " ['T', 'AE2', 'N', 'JH', 'ER0', 'IY1', 'N'],\n",
       " ['B', 'L', 'UW1', 'JH', 'IY0', 'N', 'Z'],\n",
       " ['F', 'AE0', 'N', 'T', 'AE1', 'S', 'T', 'IH0', 'K'])"
      ]
     },
     "execution_count": 18,
     "metadata": {},
     "output_type": "execute_result"
    }
   ],
   "source": [
    "cmudict['ABDICATE'], cmudict['TANGERINE'], cmudict['BLUEJEANS'], cmudict['FANTASTIC']"
   ]
  },
  {
   "cell_type": "code",
   "execution_count": 35,
   "metadata": {
    "collapsed": true
   },
   "outputs": [],
   "source": [
    "import re\n",
    "\n",
    "def rhyme_info(word):\n",
    "    rhyme_class = []\n",
    "    rhyme_consonant = None\n",
    "    \n",
    "    last_consonant = None\n",
    "    \n",
    "    # find the last stressed vowel, the vowel before it, and everything after\n",
    "    \n",
    "    phones = cmudict[word.upper()]\n",
    "    \n",
    "    for phone in phones:\n",
    "        if not phone[-1] in ['0,','1','2']:\n",
    "            # consonant\n",
    "            last_consonant = phone\n",
    "            \n",
    "        if phone[-1]=='1':\n",
    "            # stressed vowel: start rhymeclass over\n",
    "            rhyme_consonant = last_consonant\n",
    "            rhyme_class = []\n",
    "            \n",
    "        rhyme_class.append(phone)\n",
    "            \n",
    "    return {'consonant': rhyme_consonant, 'class': rhyme_class}\n",
    "    "
   ]
  },
  {
   "cell_type": "code",
   "execution_count": 37,
   "metadata": {
    "collapsed": false
   },
   "outputs": [
    {
     "name": "stdout",
     "output_type": "stream",
     "text": [
      " Dynamite {'consonant': 'D', 'class': ['AY1', 'N', 'AH0', 'M', 'AY2', 'T']}\n",
      "with {'consonant': 'W', 'class': ['IH1', 'DH']}\n",
      "a {'consonant': None, 'class': ['AH0']}\n",
      "laser {'consonant': 'L', 'class': ['EY1', 'Z', 'ER0']}\n",
      "beam {'consonant': 'B', 'class': ['IY1', 'M']}\n"
     ]
    }
   ],
   "source": [
    "for a in 'Dynamite with a laser beam'.split():\n",
    "    print a, rhyme_info(a)"
   ]
  },
  {
   "cell_type": "markdown",
   "metadata": {},
   "source": [
    "## might as well add the rhyme info to every word in the dictionary:\n"
   ]
  },
  {
   "cell_type": "code",
   "execution_count": 44,
   "metadata": {
    "collapsed": false
   },
   "outputs": [],
   "source": [
    "cmurhymes = {word: {'phones':cmudict[word], 'rhyme':rhyme_info(word)} for word in cmudict}"
   ]
  },
  {
   "cell_type": "code",
   "execution_count": 48,
   "metadata": {
    "collapsed": false
   },
   "outputs": [
    {
     "name": "stdout",
     "output_type": "stream",
     "text": [
      "According {'phones': ['AH0', 'K', 'AO1', 'R', 'D', 'IH0', 'NG'], 'rhyme': {'consonant': 'K', 'class': ['AO1', 'R', 'D', 'IH0', 'NG']}}\n",
      "to {'phones': ['T', 'UW1'], 'rhyme': {'consonant': 'T', 'class': ['UW1']}}\n",
      "your {'phones': ['Y', 'AO1', 'R'], 'rhyme': {'consonant': 'Y', 'class': ['AO1', 'R']}}\n",
      "pharmacy {'phones': ['F', 'AA1', 'R', 'M', 'AH0', 'S', 'IY0'], 'rhyme': {'consonant': 'F', 'class': ['AA1', 'R', 'M', 'AH0', 'S', 'IY0']}}\n",
      "plan {'phones': ['P', 'L', 'AE1', 'N'], 'rhyme': {'consonant': 'L', 'class': ['AE1', 'N']}}\n"
     ]
    }
   ],
   "source": [
    "for a in 'According to your pharmacy plan'.split():\n",
    "    print a, cmurhymes[a.upper()]"
   ]
  },
  {
   "cell_type": "markdown",
   "metadata": {},
   "source": [
    "## words that rhyme with collapse:"
   ]
  },
  {
   "cell_type": "code",
   "execution_count": 55,
   "metadata": {
    "collapsed": false
   },
   "outputs": [
    {
     "data": {
      "text/plain": [
       "['KAPS',\n",
       " 'FLAPS',\n",
       " 'LAPPS',\n",
       " 'CAPPS',\n",
       " \"KNAPP'S\",\n",
       " 'ELAPSE',\n",
       " 'CHAPS',\n",
       " 'SAPS',\n",
       " 'CAPS',\n",
       " 'ZAPS',\n",
       " 'SNAPS',\n",
       " 'STRAPS',\n",
       " 'YAPS',\n",
       " 'SCHNAPPS',\n",
       " 'TAPS',\n",
       " 'APPS',\n",
       " 'MAPS',\n",
       " 'KAPPES',\n",
       " 'CRAPPS',\n",
       " 'SLAPS',\n",
       " \"GAP'S\",\n",
       " 'LAPS',\n",
       " 'COLLAPSE',\n",
       " 'CLAPS',\n",
       " \"CAP'S\",\n",
       " 'WRAPS',\n",
       " 'CRAPS',\n",
       " 'NAPS',\n",
       " 'JAPS',\n",
       " 'SCRAPS',\n",
       " 'GAPS',\n",
       " 'RELAPSE',\n",
       " 'PERHAPS',\n",
       " 'LAPSE',\n",
       " 'RAPS',\n",
       " 'TRAPS']"
      ]
     },
     "execution_count": 55,
     "metadata": {},
     "output_type": "execute_result"
    }
   ],
   "source": [
    "rhyme_with = rhyme_info('collapse')\n",
    "[word for word in cmurhymes if cmurhymes[word]['rhyme']['class'] == rhyme_with['class']]"
   ]
  },
  {
   "cell_type": "markdown",
   "metadata": {},
   "source": [
    "### stricter criteria:\n",
    "most people would say elapse and collapse are not good rhymes because they have the same rhyme consonant, L."
   ]
  },
  {
   "cell_type": "code",
   "execution_count": 57,
   "metadata": {
    "collapsed": false
   },
   "outputs": [
    {
     "data": {
      "text/plain": [
       "['KAPS',\n",
       " 'CAPPS',\n",
       " \"KNAPP'S\",\n",
       " 'CHAPS',\n",
       " 'SAPS',\n",
       " 'CAPS',\n",
       " 'ZAPS',\n",
       " 'SNAPS',\n",
       " 'STRAPS',\n",
       " 'YAPS',\n",
       " 'SCHNAPPS',\n",
       " 'TAPS',\n",
       " 'APPS',\n",
       " 'MAPS',\n",
       " 'KAPPES',\n",
       " 'CRAPPS',\n",
       " \"GAP'S\",\n",
       " \"CAP'S\",\n",
       " 'WRAPS',\n",
       " 'CRAPS',\n",
       " 'NAPS',\n",
       " 'JAPS',\n",
       " 'SCRAPS',\n",
       " 'GAPS',\n",
       " 'PERHAPS',\n",
       " 'RAPS',\n",
       " 'TRAPS']"
      ]
     },
     "execution_count": 57,
     "metadata": {},
     "output_type": "execute_result"
    }
   ],
   "source": [
    "[word for word in cmurhymes \n",
    " if cmurhymes[word]['rhyme']['class'] == rhyme_with['class'] \n",
    " and cmurhymes[word]['rhyme']['consonant'] != rhyme_with['consonant']]"
   ]
  },
  {
   "cell_type": "markdown",
   "metadata": {},
   "source": [
    "### make a function from that"
   ]
  },
  {
   "cell_type": "code",
   "execution_count": 76,
   "metadata": {
    "collapsed": false
   },
   "outputs": [],
   "source": [
    "def do_they_rhyme(word, other_word):\n",
    "    word = word.upper()\n",
    "    other_word = other_word.upper()\n",
    "    return (cmurhymes[word]['rhyme']['class'] == cmurhymes[other_word]['rhyme']['class'] \n",
    "            and cmurhymes[word]['rhyme']['consonant'] != cmurhymes[other_word]['rhyme']['consonant'])"
   ]
  },
  {
   "cell_type": "code",
   "execution_count": 78,
   "metadata": {
    "collapsed": false
   },
   "outputs": [
    {
     "data": {
      "text/plain": [
       "True"
      ]
     },
     "execution_count": 78,
     "metadata": {},
     "output_type": "execute_result"
    }
   ],
   "source": [
    "do_they_rhyme('antelope', 'cantaloupe')"
   ]
  },
  {
   "cell_type": "code",
   "execution_count": 68,
   "metadata": {
    "collapsed": false
   },
   "outputs": [
    {
     "data": {
      "text/plain": [
       "False"
      ]
     },
     "execution_count": 68,
     "metadata": {},
     "output_type": "execute_result"
    }
   ],
   "source": [
    "do_they_rhyme('antelope','envelope')"
   ]
  },
  {
   "cell_type": "markdown",
   "metadata": {},
   "source": [
    "## rhymingdromes?\n",
    "Are there any words that rhyme with their reverse - besides the obvious palindromes like pop\n"
   ]
  },
  {
   "cell_type": "code",
   "execution_count": 79,
   "metadata": {
    "collapsed": false
   },
   "outputs": [
    {
     "data": {
      "text/plain": [
       "'yrawossac'"
      ]
     },
     "execution_count": 79,
     "metadata": {},
     "output_type": "execute_result"
    }
   ],
   "source": [
    "# reverse string with slice: [::-1]\n",
    "\"cassowary\"[::-1]"
   ]
  },
  {
   "cell_type": "code",
   "execution_count": 81,
   "metadata": {
    "collapsed": false
   },
   "outputs": [
    {
     "name": "stdout",
     "output_type": "stream",
     "text": [
      "OW WO\n",
      "WO OW\n",
      "OOH HOO\n",
      "BT TB\n",
      "DC CD\n",
      "TB BT\n",
      "OH HO\n",
      "HOO OOH\n",
      "HO OH\n",
      "HA AH\n",
      "AH HA\n",
      "CD DC\n"
     ]
    }
   ],
   "source": [
    "for word in cmurhymes:\n",
    "    drow = word[::-1]\n",
    "    if drow in cmurhymes:\n",
    "        if do_they_rhyme(word, drow):\n",
    "            print word, drow\n",
    "        "
   ]
  },
  {
   "cell_type": "markdown",
   "metadata": {},
   "source": [
    "### why didn't POP show up?\n",
    "Words don't rhyme with themselves according to our definition, since the rhyme consonant is the same."
   ]
  },
  {
   "cell_type": "markdown",
   "metadata": {},
   "source": [
    "## challenge:\n",
    "### more interesting definition of rhymingdromes?\n",
    "\n"
   ]
  },
  {
   "cell_type": "code",
   "execution_count": null,
   "metadata": {
    "collapsed": true
   },
   "outputs": [],
   "source": []
  }
 ],
 "metadata": {
  "kernelspec": {
   "display_name": "Python 2",
   "language": "python",
   "name": "python2"
  },
  "language_info": {
   "codemirror_mode": {
    "name": "ipython",
    "version": 2
   },
   "file_extension": ".py",
   "mimetype": "text/x-python",
   "name": "python",
   "nbconvert_exporter": "python",
   "pygments_lexer": "ipython2",
   "version": "2.7.10"
  }
 },
 "nbformat": 4,
 "nbformat_minor": 0
}
