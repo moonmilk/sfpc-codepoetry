{
 "cells": [
  {
   "cell_type": "markdown",
   "metadata": {},
   "source": [
    "# words and fish >< o>\n",
    "I want to play with lots of fish names. There's a long list of fish names on wikipedia:\n",
    "https://en.wikipedia.org/wiki/List_of_common_fish_names\n",
    "I could copy and paste and hand-edit the list, or just do something quick that mostly works.\n",
    "\n"
   ]
  },
  {
   "cell_type": "code",
   "execution_count": 3,
   "metadata": {
    "collapsed": false
   },
   "outputs": [],
   "source": [
    "# grab the wiki article\n",
    "import urllib\n",
    "\n",
    "fishtml = urllib.urlopen('https://en.wikipedia.org/wiki/List_of_common_fish_names').readlines()"
   ]
  },
  {
   "cell_type": "markdown",
   "metadata": {},
   "source": [
    "Wiki article source has lines that look like this:\n",
    "\n",
    "`<li><a href=\"/wiki/Blobfish\" title=\"Blobfish\">Blobfish</a></li>`\n",
    "\n",
    "It's faster to just look for those lines than to learn an html parser module."
   ]
  },
  {
   "cell_type": "code",
   "execution_count": 6,
   "metadata": {
    "collapsed": true
   },
   "outputs": [],
   "source": [
    "import re\n",
    "fishmatch = re.compile('<li><a href=\"/wiki/.*\" title=\".*\">(.*)</a')\n",
    "fishies = []\n",
    "\n",
    "for line in fishtml:\n",
    "    m = fishmatch.search(line)\n",
    "    if m:\n",
    "        fishies.append(m.group(1))"
   ]
  },
  {
   "cell_type": "code",
   "execution_count": 27,
   "metadata": {
    "collapsed": false
   },
   "outputs": [
    {
     "data": {
      "text/plain": [
       "['Aeneus corydoras',\n",
       " 'African glass catfish',\n",
       " 'African lungfish',\n",
       " 'Aholehole',\n",
       " 'Airbreathing catfish',\n",
       " 'Airsac catfish',\n",
       " 'Alaska blackfish',\n",
       " 'Albacore',\n",
       " 'Alewife',\n",
       " 'Alfonsino']"
      ]
     },
     "execution_count": 27,
     "metadata": {},
     "output_type": "execute_result"
    }
   ],
   "source": [
    "# check the first ten fishies\n",
    "fishies[0:10]"
   ]
  },
  {
   "cell_type": "code",
   "execution_count": 28,
   "metadata": {
    "collapsed": false
   },
   "outputs": [
    {
     "data": {
      "text/plain": [
       "['Aquarium fish',\n",
       " 'Blind fish',\n",
       " 'Fish families',\n",
       " 'Fish on stamps',\n",
       " 'Ichthyology terms',\n",
       " 'Large fish',\n",
       " 'Threatened rays',\n",
       " 'Threatened sharks',\n",
       " 'Prehistoric fish',\n",
       " 'Fish common names']"
      ]
     },
     "execution_count": 28,
     "metadata": {},
     "output_type": "execute_result"
    }
   ],
   "source": [
    "# check the last ten\n",
    "fishies[-10:]"
   ]
  },
  {
   "cell_type": "code",
   "execution_count": 8,
   "metadata": {
    "collapsed": true
   },
   "outputs": [],
   "source": [
    "# load the dictionary\n",
    "with open('/usr/share/dict/words') as f:\n",
    "    words = dict([(w.strip(), True) for w in f.readlines()])"
   ]
  },
  {
   "cell_type": "code",
   "execution_count": 21,
   "metadata": {
    "collapsed": false
   },
   "outputs": [
    {
     "name": "stdout",
     "output_type": "stream",
     "text": [
      "Aruana ruana\n",
      "Bass ass\n",
      "Bleak leak\n",
      "Boafish oafish\n",
      "Boarfish oarfish\n",
      "Bream ream\n",
      "Brill rill\n",
      "Brotula rotula\n",
      "Chub hub\n",
      "Cod od\n",
      "Dace ace\n",
      "Dory ory\n",
      "Drum rum\n",
      "Eel el\n",
      "Flier lier\n",
      "Flounder lounder\n",
      "Gar ar\n",
      "Grouper rouper\n",
      "Grunt runt\n",
      "Hake ake\n",
      "Herring erring\n",
      "Hoki oki\n",
      "Ide de\n",
      "Inanga nanga\n",
      "Ling ing\n",
      "Mora ora\n",
      "Nase ase\n",
      "Opah pah\n",
      "Oscar scar\n",
      "Pollock ollock\n",
      "Porgy orgy\n",
      "Ray ay\n",
      "Ricefish icefish\n",
      "Salmon almon\n",
      "Sauger auger\n",
      "Scat cat\n",
      "Scup cup\n",
      "Shad had\n",
      "Shark hark\n",
      "Smelt melt\n",
      "Snapper napper\n",
      "Snook nook\n",
      "Sprat prat\n",
      "Stickleback tickleback\n",
      "Swallower wallower\n",
      "Sweeper weeper\n",
      "Thornfish hornfish\n",
      "Tope ope\n",
      "Trout rout\n",
      "Uaru aru\n",
      "Wrasse rasse\n",
      "Evolution volution\n",
      "Bone one\n",
      "Gill ill\n",
      "Jaw aw\n",
      "ganoine anoine\n",
      "Pregnancy regnancy\n",
      "Roe oe\n",
      "Groundfish roundfish\n",
      "salmon almon\n",
      "herring erring\n",
      "cod od\n",
      "pollock ollock\n"
     ]
    }
   ],
   "source": [
    "# fishes which become words when first letter is deleted?\n",
    "for fish in fishies:\n",
    "    ish = fish[1:]\n",
    "    if ish.lower() in words:\n",
    "        print fish, ish.lower()"
   ]
  },
  {
   "cell_type": "markdown",
   "metadata": {},
   "source": [
    "Too many proper names like Ollock and Almon in `/usr/share/dict/words` because it's meant for spell checking. Something like a scrabble dictionary would be nice. There's one here:\n",
    "\n",
    "[`https://code.google.com/p/scrabblehelper/source/browse/trunk/ScrabbleHelper/src/dictionaries/`](https://code.google.com/p/scrabblehelper/source/browse/trunk/ScrabbleHelper/src/dictionaries/)\n"
   ]
  },
  {
   "cell_type": "code",
   "execution_count": 22,
   "metadata": {
    "collapsed": false
   },
   "outputs": [],
   "source": [
    "# load the scrabble dictionary\n",
    "with open('/Users/ranjit/sowpods.txt') as f:\n",
    "    sowpods = dict([(w.strip().lower(), True) for w in f.readlines()])"
   ]
  },
  {
   "cell_type": "code",
   "execution_count": 23,
   "metadata": {
    "collapsed": false
   },
   "outputs": [
    {
     "name": "stdout",
     "output_type": "stream",
     "text": [
      "Aruana ruana\n",
      "Ayu yu\n",
      "Barb arb\n",
      "Bass ass\n",
      "Bleak leak\n",
      "Boafish oafish\n",
      "Boarfish oarfish\n",
      "Bream ream\n",
      "Brill rill\n",
      "Brotula rotula\n",
      "Chub hub\n",
      "Cobia obia\n",
      "Cod od\n",
      "Dab ab\n",
      "Dace ace\n",
      "Drum rum\n",
      "Eel el\n",
      "Flier lier\n",
      "Flounder lounder\n",
      "Gar ar\n",
      "Grayling rayling\n",
      "Grunt runt\n",
      "Hake ake\n",
      "Herring erring\n",
      "Ide de\n",
      "Koi oi\n",
      "Mora ora\n",
      "Opah pah\n",
      "Oscar scar\n",
      "Panga anga\n",
      "Porgy orgy\n",
      "Ray ay\n",
      "Sauger auger\n",
      "Scat cat\n",
      "Scup cup\n",
      "Shad had\n",
      "Shark hark\n",
      "Smelt melt\n",
      "Snapper napper\n",
      "Snook nook\n",
      "Sole ole\n",
      "Sprat prat\n",
      "Swallower wallower\n",
      "Sweeper weeper\n",
      "Tope ope\n",
      "Trout rout\n",
      "Wrasse rasse\n",
      "Evolution volution\n",
      "Bone one\n",
      "Fins ins\n",
      "Gill ill\n",
      "Jaw aw\n",
      "Meristics eristics\n",
      "Pregnancy regnancy\n",
      "Roe oe\n",
      "Spawning pawning\n",
      "sharks harks\n",
      "herring erring\n",
      "cod od\n",
      "rays ays\n"
     ]
    }
   ],
   "source": [
    "# fishes which become words when first letter is deleted?\n",
    "for fish in fishies:\n",
    "    ish = fish[1:]\n",
    "    if ish.lower() in sowpods:\n",
    "        print fish, ish.lower()"
   ]
  },
  {
   "cell_type": "code",
   "execution_count": null,
   "metadata": {
    "collapsed": true
   },
   "outputs": [],
   "source": []
  }
 ],
 "metadata": {
  "kernelspec": {
   "display_name": "Python 2",
   "language": "python",
   "name": "python2"
  },
  "language_info": {
   "codemirror_mode": {
    "name": "ipython",
    "version": 2
   },
   "file_extension": ".py",
   "mimetype": "text/x-python",
   "name": "python",
   "nbconvert_exporter": "python",
   "pygments_lexer": "ipython2",
   "version": "2.7.10"
  }
 },
 "nbformat": 4,
 "nbformat_minor": 0
}
