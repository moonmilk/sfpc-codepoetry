{
 "cells": [
  {
   "cell_type": "code",
   "execution_count": 1,
   "metadata": {
    "collapsed": true
   },
   "outputs": [],
   "source": [
    "from pattern.nl import parse, parsetree"
   ]
  },
  {
   "cell_type": "code",
   "execution_count": 2,
   "metadata": {
    "collapsed": false
   },
   "outputs": [
    {
     "name": "stdout",
     "output_type": "stream",
     "text": [
      "[Sentence('De/DT/B-NP/O kat/NN/I-NP/O zit/VBZ/B-VP/O op/IN/B-PP/B-PNP de/DT/B-NP/I-PNP mat/NN/I-NP/I-PNP ././O/O')]\n"
     ]
    }
   ],
   "source": [
    "kat = 'De kat zit op de mat.'\n",
    "tree = parsetree(kat)\n",
    "print repr(tree)"
   ]
  },
  {
   "cell_type": "code",
   "execution_count": 3,
   "metadata": {
    "collapsed": false
   },
   "outputs": [
    {
     "data": {
      "text/plain": [
       "u'/Users/ranjit/Sites/sfpc-codepoetry'"
      ]
     },
     "execution_count": 3,
     "metadata": {},
     "output_type": "execute_result"
    }
   ],
   "source": [
    "pwd"
   ]
  },
  {
   "cell_type": "code",
   "execution_count": 6,
   "metadata": {
    "collapsed": false
   },
   "outputs": [
    {
     "name": "stdout",
     "output_type": "stream",
     "text": [
      "/Users/ranjit/Sites/sfpc-codepoetry/dutch-diminutives\n"
     ]
    }
   ],
   "source": [
    "cd dutch-diminutives"
   ]
  },
  {
   "cell_type": "code",
   "execution_count": 36,
   "metadata": {
    "collapsed": true
   },
   "outputs": [],
   "source": [
    "%run diminutive_generator.py\n"
   ]
  },
  {
   "cell_type": "code",
   "execution_count": 34,
   "metadata": {
    "collapsed": false
   },
   "outputs": [
    {
     "name": "stdout",
     "output_type": "stream",
     "text": [
      "katje\n"
     ]
    }
   ],
   "source": [
    "diminutive_generator('kat')"
   ]
  },
  {
   "cell_type": "code",
   "execution_count": 35,
   "metadata": {
    "collapsed": false
   },
   "outputs": [
    {
     "name": "stdout",
     "output_type": "stream",
     "text": [
      "katje\n",
      "None\n",
      "matje\n",
      "None\n",
      "Het zit op het \n"
     ]
    }
   ],
   "source": [
    "s = \"\"\n",
    "\n",
    "for sentence in tree:\n",
    "    for chunk in sentence.chunks:\n",
    "        for word in chunk.words:\n",
    "            if word.type in ['DT']:\n",
    "                if word.string.istitle():\n",
    "                    s = s + \"Het \"\n",
    "                else:\n",
    "                    s = s + \"het \"\n",
    "            elif word.type in ['NN', 'NNP']:\n",
    "#                 dim = word.string\n",
    "                dim = diminutive_generator(word.string)\n",
    "                print dim\n",
    "                if dim != None:\n",
    "                    s = s + dim + \" \"\n",
    "            else:\n",
    "                s = s + word.string + \" \"\n",
    "\n",
    "print s"
   ]
  },
  {
   "cell_type": "code",
   "execution_count": null,
   "metadata": {
    "collapsed": true
   },
   "outputs": [],
   "source": []
  }
 ],
 "metadata": {
  "kernelspec": {
   "display_name": "Python 2",
   "language": "python",
   "name": "python2"
  },
  "language_info": {
   "codemirror_mode": {
    "name": "ipython",
    "version": 2
   },
   "file_extension": ".py",
   "mimetype": "text/x-python",
   "name": "python",
   "nbconvert_exporter": "python",
   "pygments_lexer": "ipython2",
   "version": "2.7.10"
  }
 },
 "nbformat": 4,
 "nbformat_minor": 0
}
